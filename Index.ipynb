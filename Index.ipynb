{
 "cells": [
  {
   "cell_type": "code",
   "execution_count": 87,
   "metadata": {},
   "outputs": [
    {
     "data": {
      "text/plain": [
       "'\\n\\nColor Identification using Machine Learning\\n\\nKMeans, to extract colors from a give image.\\nOpenCV2 for image manipulation, apply KMeans to identify the major colors\\nand then plot the information using Matplotlib.\\n\\nImport libraries\\n\\nWe need sklearn for KMeans algorithm, matplotlib.pyplot for plotting graphs,\\nnumpy to work with arrays, cv2 to work with image data, collections to use Counter to count values, \\nrgb2lab to convert RGB values and deltaE_cie76 to calculate similarity between colors.\\n'"
      ]
     },
     "execution_count": 87,
     "metadata": {},
     "output_type": "execute_result"
    }
   ],
   "source": [
    "'''\n",
    "\n",
    "Color Identification using Machine Learning\n",
    "\n",
    "KMeans, to extract colors from a give image.\n",
    "OpenCV2 for image manipulation, apply KMeans to identify the major colors\n",
    "and then plot the information using Matplotlib.\n",
    "\n",
    "Import libraries\n",
    "\n",
    "We need sklearn for KMeans algorithm, matplotlib.pyplot for plotting graphs,\n",
    "numpy to work with arrays, cv2 to work with image data, collections to use Counter to count values, \n",
    "rgb2lab to convert RGB values and deltaE_cie76 to calculate similarity between colors.\n",
    "'''"
   ]
  },
  {
   "cell_type": "code",
   "execution_count": 88,
   "metadata": {},
   "outputs": [],
   "source": [
    "\n",
    "#pip install requests"
   ]
  },
  {
   "cell_type": "code",
   "execution_count": 89,
   "metadata": {},
   "outputs": [],
   "source": [
    "#!pip install opencv-python\n"
   ]
  },
  {
   "cell_type": "code",
   "execution_count": 90,
   "metadata": {},
   "outputs": [],
   "source": [
    "\n",
    "\n",
    "#plt.figure(figsize = (8, 6))\n",
    "#plt.pie(result, labels = result, colors =result)\n",
    "    \n",
    "\n",
    "#print(resp['colors'][0]['rgb']['value'])\n",
    "#print(resp['colors'][1]['hex']['value'])\n"
   ]
  },
  {
   "cell_type": "code",
   "execution_count": 91,
   "metadata": {},
   "outputs": [],
   "source": [
    "#import json\n",
    "#c=json.load(r)"
   ]
  },
  {
   "cell_type": "code",
   "execution_count": 92,
   "metadata": {},
   "outputs": [],
   "source": [
    "from sklearn.cluster import KMeans\n",
    "import matplotlib.pyplot as plt\n",
    "import numpy as np\n",
    "import cv2\n",
    "from collections import Counter\n",
    "from skimage.color import rgb2lab, deltaE_cie76\n",
    "import os\n",
    "\n",
    "%matplotlib inline"
   ]
  },
  {
   "cell_type": "code",
   "execution_count": 93,
   "metadata": {},
   "outputs": [
    {
     "data": {
      "text/plain": [
       "'First, we will define a function that can give us\\nthe hex values of our the colors that we will identify.'"
      ]
     },
     "execution_count": 93,
     "metadata": {},
     "output_type": "execute_result"
    }
   ],
   "source": [
    "'''First, we will define a function that can give us\n",
    "the hex values of our the colors that we will identify.'''"
   ]
  },
  {
   "cell_type": "code",
   "execution_count": 94,
   "metadata": {},
   "outputs": [],
   "source": [
    "def RGB2HEX(color):\n",
    "    return \"#{:02x}{:02x}{:02x}\".format(int(color[0]), int(color[1]), int(color[2]))"
   ]
  },
  {
   "cell_type": "code",
   "execution_count": 95,
   "metadata": {},
   "outputs": [
    {
     "data": {
      "text/plain": [
       "'KMeans expects flattened array as input during its fit method.\\nThus, we need to reshape the image using numpy. \\nThen, we can apply KMeans to first fit and then predict on \\nthe image to get the results. \\nThen, the cluster colors are identified an arranged in the correct order.\\nWe plot the colors as a pie chart.\\n\\nCombined all the steps in two method.'"
      ]
     },
     "execution_count": 95,
     "metadata": {},
     "output_type": "execute_result"
    }
   ],
   "source": [
    "'''KMeans expects flattened array as input during its fit method.\n",
    "Thus, we need to reshape the image using numpy. \n",
    "Then, we can apply KMeans to first fit and then predict on \n",
    "the image to get the results. \n",
    "Then, the cluster colors are identified an arranged in the correct order.\n",
    "We plot the colors as a pie chart.\n",
    "\n",
    "Combined all the steps in two method.'''"
   ]
  },
  {
   "cell_type": "code",
   "execution_count": 96,
   "metadata": {},
   "outputs": [],
   "source": [
    "def get_image(image_path):\n",
    "    image = cv2.imread(image_path)\n",
    "    image = cv2.cvtColor(image, cv2.COLOR_BGR2RGB)\n",
    "    return image"
   ]
  },
  {
   "cell_type": "code",
   "execution_count": 112,
   "metadata": {},
   "outputs": [],
   "source": [
    "def get_colors(image, number_of_colors, show_chart):\n",
    "    \n",
    "    \n",
    "    modified_image = cv2.resize(image, (600, 400), interpolation = cv2.INTER_AREA)\n",
    "    \n",
    "    #print(modified_image.shape)\n",
    "    modified_image = modified_image.reshape(modified_image.shape[0]*modified_image.shape[1], 3)\n",
    "    #print(modified_image.shape)\n",
    "    \n",
    "    clf = KMeans(n_clusters = number_of_colors)\n",
    "    labels = clf.fit_predict(modified_image)\n",
    "    \n",
    "    \n",
    "    counts = Counter(labels)\n",
    "    #print(counts.values())\n",
    "    # sort to ensure correct color percentage\n",
    "    counts = dict(sorted(counts.items()))\n",
    "    \n",
    "    center_colors = clf.cluster_centers_\n",
    "    # We get ordered colors by iterating through the keys\n",
    "    ordered_colors = [center_colors[i] for i in counts.keys()]\n",
    "    hex_colors = [RGB2HEX(ordered_colors[i]) for i in counts.keys()]\n",
    "    rgb_colors = [ordered_colors[i] for i in counts.keys()]\n",
    "    #print(hex_colors)\n",
    "\n",
    "    if (show_chart):\n",
    "        plt.figure(figsize = (8, 6))\n",
    "        plt.pie(counts.values(), labels = hex_colors, colors = hex_colors)\n",
    "    \n",
    "    return rgb_colors"
   ]
  },
  {
   "cell_type": "code",
   "execution_count": 98,
   "metadata": {},
   "outputs": [],
   "source": [
    "from tkinter import filedialog\n",
    "from tkinter import *\n",
    "import requests"
   ]
  },
  {
   "cell_type": "code",
   "execution_count": 99,
   "metadata": {},
   "outputs": [],
   "source": [
    "def loadFile():\n",
    "    root = Tk()\n",
    "    root.filename =  filedialog.askopenfilename(initialdir = \"/\",title = \"Select file\",filetypes = ((\"all files\",\"*.*\"),(\"all files\",\"*.*\")))\n",
    "    #print (\"For the first document, you selected:  \"  + root.filename)\n",
    "    root.destroy()\n",
    "    return root.filename"
   ]
  },
  {
   "cell_type": "code",
   "execution_count": 117,
   "metadata": {},
   "outputs": [],
   "source": [
    "def scheme(gen):\n",
    "    result=[]\n",
    "#rgb='rgb'+'('+ str(gen[0][0])+str(gen[0][1])+str(gen[0][2])+')'\n",
    "    for i in range(len(gen)):\n",
    "        rgb='rgb'+'('+ str(gen[i][0])+str(gen[i][1])+str(gen[i][2])+')'\n",
    "        payload = {'rgb': rgb,'mode':'analogic'}\n",
    "        r = requests.get(' http://thecolorapi.com/scheme', params=payload)\n",
    "        resp=r.json()\n",
    "        temp=[]\n",
    "        for i in range(len(resp['colors'])):\n",
    "            temp.append(resp['colors'][i]['hex']['value'])\n",
    "        result.append(temp)\n",
    "    return result"
   ]
  },
  {
   "cell_type": "code",
   "execution_count": 118,
   "metadata": {},
   "outputs": [
    {
     "data": {
      "image/png": "[encoded data removed]",
      "text/plain": [
       "<Figure size 576x432 with 1 Axes>"
      ]
     },
     "metadata": {},
     "output_type": "display_data"
    }
   ],
   "source": [
    "path=loadFile()\n",
    "gen=get_colors(get_image(path),3, True)\n",
    "\n",
    "#print('rgb'+'('+ str(gen[0][0])+str(gen[0][1])+str(gen[0][2])+')')\n"
   ]
  },
  {
   "cell_type": "code",
   "execution_count": 120,
   "metadata": {},
   "outputs": [
    {
     "name": "stdout",
     "output_type": "stream",
     "text": [
      "['#EC0606', '#F24C05', '#F99704', '#FCE405', '#CDFE09']\n"
     ]
    },
    {
     "data": {
      "text/plain": [
       "([<matplotlib.patches.Wedge at 0x2d70fcfe0c8>,\n",
       "  <matplotlib.patches.Wedge at 0x2d70fcfe788>,\n",
       "  <matplotlib.patches.Wedge at 0x2d70fcfed88>,\n",
       "  <matplotlib.patches.Wedge at 0x2d70fd1bb88>,\n",
       "  <matplotlib.patches.Wedge at 0x2d70fd17fc8>],\n",
       " [Text(0.8899186877588753, 0.6465637858537406, '#EC0606'),\n",
       "  Text(-0.3399187231970732, 1.046162158377023, '#F24C05'),\n",
       "  Text(-1.0999999999999988, -5.149471622296949e-08, '#F99704'),\n",
       "  Text(-0.33991862524830174, -1.0461621902025062, '#FCE405'),\n",
       "  Text(0.8899187482945414, -0.6465637025335375, '#CDFE09')])"
      ]
     },
     "execution_count": 120,
     "metadata": {},
     "output_type": "execute_result"
    },
    {
     "data": {
      "image/png": "[encoded data removed]",
      "text/plain": [
       "<Figure size 576x432 with 1 Axes>"
      ]
     },
     "metadata": {},
     "output_type": "display_data"
    }
   ],
   "source": [
    "out=scheme(gen)\n",
    "val=np.ones(5)\n",
    "\n",
    "print(out[0])\n",
    "plt.figure(figsize = (8, 6))\n",
    "plt.pie(val, labels = out[0], colors =out[0])"
   ]
  },
  {
   "cell_type": "code",
   "execution_count": null,
   "metadata": {},
   "outputs": [],
   "source": []
  }
 ],
 "metadata": {
  "kernelspec": {
   "display_name": "Python 3",
   "language": "python",
   "name": "python3"
  },
  "language_info": {
   "codemirror_mode": {
    "name": "ipython",
    "version": 3
   },
   "file_extension": ".py",
   "mimetype": "text/x-python",
   "name": "python",
   "nbconvert_exporter": "python",
   "pygments_lexer": "ipython3",
   "version": "3.7.4"
  }
 },
 "nbformat": 4,
 "nbformat_minor": 2
}
